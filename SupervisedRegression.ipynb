{
 "cells": [
  {
   "cell_type": "markdown",
   "metadata": {},
   "source": [
    "<img src=\"https://cybersecurity-excellence-awards.com/wp-content/uploads/2017/06/366812.png\">"
   ]
  },
  {
   "cell_type": "markdown",
   "metadata": {},
   "source": [
    "<h1><center>Darwin Supervised Regression Model Building </center></h1>"
   ]
  },
  {
   "cell_type": "markdown",
   "metadata": {},
   "source": [
    "# Prior to getting started:"
   ]
  },
  {
   "cell_type": "markdown",
   "metadata": {},
   "source": [
    "First, \n",
    "<br>if you have just received a new api key from support, you will need to register your key and create a new user (see Register user cell)\n",
    "\n",
    "Second, in the Environment Variables cell: \n",
    "1. Set your username and password to ensure that you're able to log in successfully\n",
    "2. Set the path to the location of your datasets if you are using your own data.  The path is set for the examples.\n",
    "3. Set the dataset names accordingly\n",
    "\n",
    "Here are a few things to be mindful of:\n",
    "1. For every run, check the job status (i.e. requested, failed, running, completed) and wait for job to complete before proceeding. \n",
    "2. If you're not satisfied with your model and think that Darwin can benefit from extra training, use the resume function."
   ]
  },
  {
   "cell_type": "markdown",
   "metadata": {},
   "source": [
    "## Set Darwin SDK"
   ]
  },
  {
   "cell_type": "code",
   "execution_count": 1,
   "metadata": {},
   "outputs": [
    {
     "data": {
      "text/plain": [
       "(True, 'https://amb-demo-api.sparkcognition.com/v1/')"
      ]
     },
     "execution_count": 1,
     "metadata": {},
     "output_type": "execute_result"
    }
   ],
   "source": [
    "from amb_sdk.sdk import DarwinSdk\n",
    "ds = DarwinSdk()\n",
    "ds.set_url('https://amb-demo-api.sparkcognition.com/v1/')"
   ]
  },
  {
   "cell_type": "markdown",
   "metadata": {},
   "source": [
    "## Environment Variables"
   ]
  },
  {
   "cell_type": "code",
   "execution_count": 2,
   "metadata": {},
   "outputs": [],
   "source": [
    "#Set your user id and password accordingly\n",
    "USER=\"nsusanward@gmail.com\"\n",
    "PW=\"G8adjr4PCu\"\n",
    "\n",
    "# Set path to datasets - The default below assumes Jupyter was started from amb-sdk/examples/Enterprise/\n",
    "# Modify accordingly if you wish to use your own data\n",
    "PATH_TO_DATASET=''\n",
    "DATASET_NAME='mergedData.csv'\n",
    "\n",
    "# A timestamp is used to create a unique name in the event you execute the workflow multiple times or with \n",
    "# different datasets.  File names must be unique in Darwin.\n",
    "import datetime\n",
    "ts = '{:%Y%m%d%H%M%S}'.format(datetime.datetime.now())\n"
   ]
  },
  {
   "cell_type": "markdown",
   "metadata": {},
   "source": [
    "## Import necessary libraries"
   ]
  },
  {
   "cell_type": "code",
   "execution_count": 3,
   "metadata": {
    "scrolled": true
   },
   "outputs": [],
   "source": [
    "# Import necessary libraries\n",
    "%matplotlib inline\n",
    "import matplotlib.pyplot as plt\n",
    "import pandas as pd\n",
    "from IPython.display import Image\n",
    "from time import sleep\n",
    "import os\n",
    "import numpy as np\n",
    "from sklearn.metrics import r2_score"
   ]
  },
  {
   "cell_type": "markdown",
   "metadata": {},
   "source": [
    "# User Login "
   ]
  },
  {
   "cell_type": "code",
   "execution_count": 4,
   "metadata": {},
   "outputs": [],
   "source": [
    "status, msg = ds.auth_login_user(USER,PW)\n",
    "if not status:\n",
    "    print(msg)"
   ]
  },
  {
   "cell_type": "markdown",
   "metadata": {},
   "source": [
    "# Data Upload"
   ]
  },
  {
   "cell_type": "markdown",
   "metadata": {},
   "source": [
    "**Read dataset and view a file snippet**"
   ]
  },
  {
   "cell_type": "code",
   "execution_count": 5,
   "metadata": {},
   "outputs": [
    {
     "data": {
      "text/html": [
       "<div>\n",
       "<style scoped>\n",
       "    .dataframe tbody tr th:only-of-type {\n",
       "        vertical-align: middle;\n",
       "    }\n",
       "\n",
       "    .dataframe tbody tr th {\n",
       "        vertical-align: top;\n",
       "    }\n",
       "\n",
       "    .dataframe thead th {\n",
       "        text-align: right;\n",
       "    }\n",
       "</style>\n",
       "<table border=\"1\" class=\"dataframe\">\n",
       "  <thead>\n",
       "    <tr style=\"text-align: right;\">\n",
       "      <th></th>\n",
       "      <th>Unnamed: 0</th>\n",
       "      <th>Geo_FIPS</th>\n",
       "      <th>percSOV</th>\n",
       "      <th>OBJECTID</th>\n",
       "      <th>GEOID10</th>\n",
       "      <th>TRFIPS</th>\n",
       "      <th>CFIPS</th>\n",
       "      <th>SFIPS</th>\n",
       "      <th>CSA</th>\n",
       "      <th>CSA_Name</th>\n",
       "      <th>...</th>\n",
       "      <th>D5cr</th>\n",
       "      <th>D5cri</th>\n",
       "      <th>D5ce</th>\n",
       "      <th>D5cei</th>\n",
       "      <th>D5dr</th>\n",
       "      <th>D5dri</th>\n",
       "      <th>D5de</th>\n",
       "      <th>D5dei</th>\n",
       "      <th>Shape_Length</th>\n",
       "      <th>Shape_Area</th>\n",
       "    </tr>\n",
       "  </thead>\n",
       "  <tbody>\n",
       "    <tr>\n",
       "      <th>0</th>\n",
       "      <td>0</td>\n",
       "      <td>10010201001</td>\n",
       "      <td>0.887006</td>\n",
       "      <td>427</td>\n",
       "      <td>10010201001</td>\n",
       "      <td>20100</td>\n",
       "      <td>1</td>\n",
       "      <td>1</td>\n",
       "      <td>388.0</td>\n",
       "      <td>Montgomery-Alexander City, AL</td>\n",
       "      <td>...</td>\n",
       "      <td>0.002123</td>\n",
       "      <td>0.31</td>\n",
       "      <td>0.25</td>\n",
       "      <td>0.45</td>\n",
       "      <td>-99999.0</td>\n",
       "      <td>-99999.0</td>\n",
       "      <td>-99999.0</td>\n",
       "      <td>-99999.0</td>\n",
       "      <td>0.110807</td>\n",
       "      <td>0.000410</td>\n",
       "    </tr>\n",
       "    <tr>\n",
       "      <th>1</th>\n",
       "      <td>1</td>\n",
       "      <td>10010201002</td>\n",
       "      <td>0.894172</td>\n",
       "      <td>1668</td>\n",
       "      <td>10010201002</td>\n",
       "      <td>20100</td>\n",
       "      <td>1</td>\n",
       "      <td>1</td>\n",
       "      <td>388.0</td>\n",
       "      <td>Montgomery-Alexander City, AL</td>\n",
       "      <td>...</td>\n",
       "      <td>0.001654</td>\n",
       "      <td>0.24</td>\n",
       "      <td>0.20</td>\n",
       "      <td>0.36</td>\n",
       "      <td>-99999.0</td>\n",
       "      <td>-99999.0</td>\n",
       "      <td>-99999.0</td>\n",
       "      <td>-99999.0</td>\n",
       "      <td>0.096808</td>\n",
       "      <td>0.000534</td>\n",
       "    </tr>\n",
       "    <tr>\n",
       "      <th>2</th>\n",
       "      <td>2</td>\n",
       "      <td>10010202001</td>\n",
       "      <td>0.854737</td>\n",
       "      <td>217</td>\n",
       "      <td>10010202001</td>\n",
       "      <td>20200</td>\n",
       "      <td>1</td>\n",
       "      <td>1</td>\n",
       "      <td>388.0</td>\n",
       "      <td>Montgomery-Alexander City, AL</td>\n",
       "      <td>...</td>\n",
       "      <td>0.001931</td>\n",
       "      <td>0.29</td>\n",
       "      <td>0.24</td>\n",
       "      <td>0.43</td>\n",
       "      <td>-99999.0</td>\n",
       "      <td>-99999.0</td>\n",
       "      <td>-99999.0</td>\n",
       "      <td>-99999.0</td>\n",
       "      <td>0.062129</td>\n",
       "      <td>0.000197</td>\n",
       "    </tr>\n",
       "    <tr>\n",
       "      <th>3</th>\n",
       "      <td>3</td>\n",
       "      <td>10010202002</td>\n",
       "      <td>0.973392</td>\n",
       "      <td>216</td>\n",
       "      <td>10010202002</td>\n",
       "      <td>20200</td>\n",
       "      <td>1</td>\n",
       "      <td>1</td>\n",
       "      <td>388.0</td>\n",
       "      <td>Montgomery-Alexander City, AL</td>\n",
       "      <td>...</td>\n",
       "      <td>0.002335</td>\n",
       "      <td>0.35</td>\n",
       "      <td>0.28</td>\n",
       "      <td>0.50</td>\n",
       "      <td>-99999.0</td>\n",
       "      <td>-99999.0</td>\n",
       "      <td>-99999.0</td>\n",
       "      <td>-99999.0</td>\n",
       "      <td>0.052277</td>\n",
       "      <td>0.000124</td>\n",
       "    </tr>\n",
       "    <tr>\n",
       "      <th>4</th>\n",
       "      <td>4</td>\n",
       "      <td>10010203001</td>\n",
       "      <td>0.912568</td>\n",
       "      <td>207</td>\n",
       "      <td>10010203001</td>\n",
       "      <td>20300</td>\n",
       "      <td>1</td>\n",
       "      <td>1</td>\n",
       "      <td>388.0</td>\n",
       "      <td>Montgomery-Alexander City, AL</td>\n",
       "      <td>...</td>\n",
       "      <td>0.002256</td>\n",
       "      <td>0.33</td>\n",
       "      <td>0.28</td>\n",
       "      <td>0.50</td>\n",
       "      <td>-99999.0</td>\n",
       "      <td>-99999.0</td>\n",
       "      <td>-99999.0</td>\n",
       "      <td>-99999.0</td>\n",
       "      <td>0.089441</td>\n",
       "      <td>0.000372</td>\n",
       "    </tr>\n",
       "  </tbody>\n",
       "</table>\n",
       "<p>5 rows × 120 columns</p>\n",
       "</div>"
      ],
      "text/plain": [
       "   Unnamed: 0     Geo_FIPS   percSOV  OBJECTID      GEOID10  TRFIPS  CFIPS  \\\n",
       "0           0  10010201001  0.887006       427  10010201001   20100      1   \n",
       "1           1  10010201002  0.894172      1668  10010201002   20100      1   \n",
       "2           2  10010202001  0.854737       217  10010202001   20200      1   \n",
       "3           3  10010202002  0.973392       216  10010202002   20200      1   \n",
       "4           4  10010203001  0.912568       207  10010203001   20300      1   \n",
       "\n",
       "   SFIPS    CSA                       CSA_Name  ...      D5cr D5cri  D5ce  \\\n",
       "0      1  388.0  Montgomery-Alexander City, AL  ...  0.002123  0.31  0.25   \n",
       "1      1  388.0  Montgomery-Alexander City, AL  ...  0.001654  0.24  0.20   \n",
       "2      1  388.0  Montgomery-Alexander City, AL  ...  0.001931  0.29  0.24   \n",
       "3      1  388.0  Montgomery-Alexander City, AL  ...  0.002335  0.35  0.28   \n",
       "4      1  388.0  Montgomery-Alexander City, AL  ...  0.002256  0.33  0.28   \n",
       "\n",
       "   D5cei     D5dr    D5dri     D5de    D5dei  Shape_Length  Shape_Area  \n",
       "0   0.45 -99999.0 -99999.0 -99999.0 -99999.0      0.110807    0.000410  \n",
       "1   0.36 -99999.0 -99999.0 -99999.0 -99999.0      0.096808    0.000534  \n",
       "2   0.43 -99999.0 -99999.0 -99999.0 -99999.0      0.062129    0.000197  \n",
       "3   0.50 -99999.0 -99999.0 -99999.0 -99999.0      0.052277    0.000124  \n",
       "4   0.50 -99999.0 -99999.0 -99999.0 -99999.0      0.089441    0.000372  \n",
       "\n",
       "[5 rows x 120 columns]"
      ]
     },
     "execution_count": 5,
     "metadata": {},
     "output_type": "execute_result"
    }
   ],
   "source": [
    "# Preview dataset\n",
    "df = pd.read_csv(os.path.join(PATH_TO_DATASET, DATASET_NAME))\n",
    "df.head()"
   ]
  },
  {
   "cell_type": "markdown",
   "metadata": {},
   "source": [
    "**Upload dataset to Darwin**"
   ]
  },
  {
   "cell_type": "code",
   "execution_count": 6,
   "metadata": {
    "scrolled": true
   },
   "outputs": [
    {
     "name": "stdout",
     "output_type": "stream",
     "text": [
      "400: BAD REQUEST - {\"message\": \"Dataset already exists\"}\n",
      "\n"
     ]
    }
   ],
   "source": [
    "# Upload dataset\n",
    "status, dataset = ds.upload_dataset(os.path.join(PATH_TO_DATASET, DATASET_NAME))\n",
    "if not status:\n",
    "    print(dataset)"
   ]
  },
  {
   "cell_type": "markdown",
   "metadata": {},
   "source": [
    "**Clean dataset**"
   ]
  },
  {
   "cell_type": "code",
   "execution_count": 7,
   "metadata": {},
   "outputs": [
    {
     "name": "stdout",
     "output_type": "stream",
     "text": [
      "{'status': 'Requested', 'starttime': '2019-04-02T15:57:30.690535', 'endtime': None, 'percent_complete': 0, 'job_type': 'CleanDataTiny', 'loss': None, 'generations': None, 'dataset_names': ['mergedData.csv'], 'artifact_names': ['6d9c10e9edb5497fb2ee367db1fabf23'], 'model_name': None, 'job_error': None}\n",
      "{'status': 'Running', 'starttime': '2019-04-02T15:57:30.690535', 'endtime': None, 'percent_complete': 0, 'job_type': 'CleanDataTiny', 'loss': None, 'generations': None, 'dataset_names': ['mergedData.csv'], 'artifact_names': ['6d9c10e9edb5497fb2ee367db1fabf23'], 'model_name': None, 'job_error': ''}\n",
      "{'status': 'Running', 'starttime': '2019-04-02T15:57:30.690535', 'endtime': None, 'percent_complete': 0, 'job_type': 'CleanDataTiny', 'loss': None, 'generations': None, 'dataset_names': ['mergedData.csv'], 'artifact_names': ['6d9c10e9edb5497fb2ee367db1fabf23'], 'model_name': None, 'job_error': ''}\n",
      "{'status': 'Complete', 'starttime': '2019-04-02T15:57:30.690535', 'endtime': '2019-04-02T15:58:03.098421', 'percent_complete': 100, 'job_type': 'CleanDataTiny', 'loss': None, 'generations': None, 'dataset_names': ['mergedData.csv'], 'artifact_names': ['6d9c10e9edb5497fb2ee367db1fabf23'], 'model_name': None, 'job_error': ''}\n",
      "hello\n"
     ]
    }
   ],
   "source": [
    "# clean dataset\n",
    "target = \"percSOV\"\n",
    "status, job_id = ds.clean_data(DATASET_NAME, target = target)\n",
    "\n",
    "if status:\n",
    "    ds.wait_for_job(job_id['job_name'])\n",
    "    print(\"hello\")\n",
    "else:\n",
    "    print(job_id)"
   ]
  },
  {
   "cell_type": "markdown",
   "metadata": {},
   "source": [
    "# Create and Train Model "
   ]
  },
  {
   "cell_type": "markdown",
   "metadata": {},
   "source": [
    "We will now build a model that will learn the class labels in the target column.<br> In the default boston dataset, the target column is \"Assessed_Value\". <br> You will have to specify your own target name for your custom dataset. <br> You can also increase max_train_time for longer training.\n"
   ]
  },
  {
   "cell_type": "code",
   "execution_count": 8,
   "metadata": {
    "scrolled": true
   },
   "outputs": [
    {
     "name": "stdout",
     "output_type": "stream",
     "text": [
      "{'status': 'Requested', 'starttime': '2019-04-02T15:58:27.091516', 'endtime': None, 'percent_complete': 0, 'job_type': 'TrainModel', 'loss': None, 'generations': 0, 'dataset_names': ['mergedData.csv'], 'artifact_names': None, 'model_name': 'percSOV_model020190402155627', 'job_error': None}\n",
      "{'status': 'Running', 'starttime': '2019-04-02T15:58:27.091516', 'endtime': None, 'percent_complete': 0, 'job_type': 'TrainModel', 'loss': None, 'generations': 0, 'dataset_names': ['mergedData.csv'], 'artifact_names': None, 'model_name': 'percSOV_model020190402155627', 'job_error': ''}\n",
      "{'status': 'Running', 'starttime': '2019-04-02T15:58:27.091516', 'endtime': None, 'percent_complete': 0, 'job_type': 'TrainModel', 'loss': None, 'generations': 0, 'dataset_names': ['mergedData.csv'], 'artifact_names': None, 'model_name': 'percSOV_model020190402155627', 'job_error': ''}\n",
      "{'status': 'Running', 'starttime': '2019-04-02T15:58:27.091516', 'endtime': None, 'percent_complete': 0, 'job_type': 'TrainModel', 'loss': None, 'generations': 0, 'dataset_names': ['mergedData.csv'], 'artifact_names': None, 'model_name': 'percSOV_model020190402155627', 'job_error': ''}\n",
      "{'status': 'Running', 'starttime': '2019-04-02T15:58:27.091516', 'endtime': None, 'percent_complete': 0, 'job_type': 'TrainModel', 'loss': None, 'generations': 0, 'dataset_names': ['mergedData.csv'], 'artifact_names': None, 'model_name': 'percSOV_model020190402155627', 'job_error': ''}\n",
      "{'status': 'Running', 'starttime': '2019-04-02T15:58:27.091516', 'endtime': None, 'percent_complete': 0, 'job_type': 'TrainModel', 'loss': None, 'generations': 0, 'dataset_names': ['mergedData.csv'], 'artifact_names': None, 'model_name': 'percSOV_model020190402155627', 'job_error': ''}\n",
      "{'status': 'Running', 'starttime': '2019-04-02T15:58:27.091516', 'endtime': None, 'percent_complete': 12, 'job_type': 'TrainModel', 'loss': 0.5800882577896118, 'generations': 0, 'dataset_names': ['mergedData.csv'], 'artifact_names': None, 'model_name': 'percSOV_model020190402155627', 'job_error': ''}\n",
      "{'status': 'Running', 'starttime': '2019-04-02T15:58:27.091516', 'endtime': None, 'percent_complete': 20, 'job_type': 'TrainModel', 'loss': 0.5800882577896118, 'generations': 1, 'dataset_names': ['mergedData.csv'], 'artifact_names': None, 'model_name': 'percSOV_model020190402155627', 'job_error': ''}\n",
      "{'status': 'Running', 'starttime': '2019-04-02T15:58:27.091516', 'endtime': None, 'percent_complete': 20, 'job_type': 'TrainModel', 'loss': 0.5800882577896118, 'generations': 1, 'dataset_names': ['mergedData.csv'], 'artifact_names': None, 'model_name': 'percSOV_model020190402155627', 'job_error': ''}\n",
      "{'status': 'Running', 'starttime': '2019-04-02T15:58:27.091516', 'endtime': None, 'percent_complete': 20, 'job_type': 'TrainModel', 'loss': 0.5800882577896118, 'generations': 1, 'dataset_names': ['mergedData.csv'], 'artifact_names': None, 'model_name': 'percSOV_model020190402155627', 'job_error': ''}\n",
      "{'status': 'Running', 'starttime': '2019-04-02T15:58:27.091516', 'endtime': None, 'percent_complete': 20, 'job_type': 'TrainModel', 'loss': 0.5800882577896118, 'generations': 1, 'dataset_names': ['mergedData.csv'], 'artifact_names': None, 'model_name': 'percSOV_model020190402155627', 'job_error': ''}\n",
      "{'status': 'Running', 'starttime': '2019-04-02T15:58:27.091516', 'endtime': None, 'percent_complete': 20, 'job_type': 'TrainModel', 'loss': 0.5800882577896118, 'generations': 1, 'dataset_names': ['mergedData.csv'], 'artifact_names': None, 'model_name': 'percSOV_model020190402155627', 'job_error': ''}\n",
      "{'status': 'Running', 'starttime': '2019-04-02T15:58:27.091516', 'endtime': None, 'percent_complete': 20, 'job_type': 'TrainModel', 'loss': 0.5800882577896118, 'generations': 1, 'dataset_names': ['mergedData.csv'], 'artifact_names': None, 'model_name': 'percSOV_model020190402155627', 'job_error': ''}\n",
      "{'status': 'Running', 'starttime': '2019-04-02T15:58:27.091516', 'endtime': None, 'percent_complete': 20, 'job_type': 'TrainModel', 'loss': 0.5800882577896118, 'generations': 1, 'dataset_names': ['mergedData.csv'], 'artifact_names': None, 'model_name': 'percSOV_model020190402155627', 'job_error': ''}\n",
      "{'status': 'Running', 'starttime': '2019-04-02T15:58:27.091516', 'endtime': None, 'percent_complete': 20, 'job_type': 'TrainModel', 'loss': 0.5800882577896118, 'generations': 1, 'dataset_names': ['mergedData.csv'], 'artifact_names': None, 'model_name': 'percSOV_model020190402155627', 'job_error': ''}\n",
      "{'status': 'Running', 'starttime': '2019-04-02T15:58:27.091516', 'endtime': None, 'percent_complete': 20, 'job_type': 'TrainModel', 'loss': 0.5800882577896118, 'generations': 1, 'dataset_names': ['mergedData.csv'], 'artifact_names': None, 'model_name': 'percSOV_model020190402155627', 'job_error': ''}\n",
      "{'status': 'Complete', 'starttime': '2019-04-02T15:58:27.091516', 'endtime': '2019-04-02T16:02:19.388575', 'percent_complete': 100, 'job_type': 'TrainModel', 'loss': 0.5800882577896118, 'generations': 1, 'dataset_names': ['mergedData.csv'], 'artifact_names': None, 'model_name': 'percSOV_model020190402155627', 'job_error': ''}\n"
     ]
    }
   ],
   "source": [
    "model = target + \"_model0\" + ts\n",
    "status, job_id = ds.create_model(dataset_names = DATASET_NAME, \\\n",
    "                                 model_name =  model, \\\n",
    "                                 max_train_time = '00:02')\n",
    "if status:\n",
    "    ds.wait_for_job(job_id['job_name'])\n",
    "else:\n",
    "    print(job_id)"
   ]
  },
  {
   "cell_type": "markdown",
   "metadata": {},
   "source": [
    "# Extra Training (Optional)\n",
    "Run the following cell for extra training, no need to specify parameters"
   ]
  },
  {
   "cell_type": "code",
   "execution_count": 9,
   "metadata": {},
   "outputs": [
    {
     "name": "stdout",
     "output_type": "stream",
     "text": [
      "{'status': 'Requested', 'starttime': '2019-04-02T16:06:24.638087', 'endtime': None, 'percent_complete': 0, 'job_type': 'UpdateModel', 'loss': 0.5800882577896118, 'generations': 1, 'dataset_names': ['mergedData.csv'], 'artifact_names': None, 'model_name': 'percSOV_model020190402155627', 'job_error': None}\n",
      "{'status': 'Running', 'starttime': '2019-04-02T16:06:24.638087', 'endtime': None, 'percent_complete': 0, 'job_type': 'UpdateModel', 'loss': 0.5800882577896118, 'generations': 1, 'dataset_names': ['mergedData.csv'], 'artifact_names': None, 'model_name': 'percSOV_model020190402155627', 'job_error': ''}\n",
      "{'status': 'Running', 'starttime': '2019-04-02T16:06:24.638087', 'endtime': None, 'percent_complete': 0, 'job_type': 'UpdateModel', 'loss': 0.5800882577896118, 'generations': 1, 'dataset_names': ['mergedData.csv'], 'artifact_names': None, 'model_name': 'percSOV_model020190402155627', 'job_error': ''}\n",
      "{'status': 'Running', 'starttime': '2019-04-02T16:06:24.638087', 'endtime': None, 'percent_complete': 0, 'job_type': 'UpdateModel', 'loss': 0.5800882577896118, 'generations': 1, 'dataset_names': ['mergedData.csv'], 'artifact_names': None, 'model_name': 'percSOV_model020190402155627', 'job_error': ''}\n",
      "{'status': 'Running', 'starttime': '2019-04-02T16:06:24.638087', 'endtime': None, 'percent_complete': 11, 'job_type': 'UpdateModel', 'loss': 0.5800882577896118, 'generations': 3, 'dataset_names': ['mergedData.csv'], 'artifact_names': None, 'model_name': 'percSOV_model020190402155627', 'job_error': ''}\n",
      "{'status': 'Running', 'starttime': '2019-04-02T16:06:24.638087', 'endtime': None, 'percent_complete': 11, 'job_type': 'UpdateModel', 'loss': 0.5800882577896118, 'generations': 3, 'dataset_names': ['mergedData.csv'], 'artifact_names': None, 'model_name': 'percSOV_model020190402155627', 'job_error': ''}\n",
      "{'status': 'Running', 'starttime': '2019-04-02T16:06:24.638087', 'endtime': None, 'percent_complete': 11, 'job_type': 'UpdateModel', 'loss': 0.5800882577896118, 'generations': 3, 'dataset_names': ['mergedData.csv'], 'artifact_names': None, 'model_name': 'percSOV_model020190402155627', 'job_error': ''}\n",
      "{'status': 'Running', 'starttime': '2019-04-02T16:06:24.638087', 'endtime': None, 'percent_complete': 22, 'job_type': 'UpdateModel', 'loss': 0.5800882577896118, 'generations': 4, 'dataset_names': ['mergedData.csv'], 'artifact_names': None, 'model_name': 'percSOV_model020190402155627', 'job_error': ''}\n",
      "{'status': 'Running', 'starttime': '2019-04-02T16:06:24.638087', 'endtime': None, 'percent_complete': 22, 'job_type': 'UpdateModel', 'loss': 0.5800882577896118, 'generations': 4, 'dataset_names': ['mergedData.csv'], 'artifact_names': None, 'model_name': 'percSOV_model020190402155627', 'job_error': ''}\n",
      "{'status': 'Running', 'starttime': '2019-04-02T16:06:24.638087', 'endtime': None, 'percent_complete': 22, 'job_type': 'UpdateModel', 'loss': 0.5800882577896118, 'generations': 4, 'dataset_names': ['mergedData.csv'], 'artifact_names': None, 'model_name': 'percSOV_model020190402155627', 'job_error': ''}\n",
      "{'status': 'Running', 'starttime': '2019-04-02T16:06:24.638087', 'endtime': None, 'percent_complete': 22, 'job_type': 'UpdateModel', 'loss': 0.5800882577896118, 'generations': 4, 'dataset_names': ['mergedData.csv'], 'artifact_names': None, 'model_name': 'percSOV_model020190402155627', 'job_error': ''}\n",
      "{'status': 'Running', 'starttime': '2019-04-02T16:06:24.638087', 'endtime': None, 'percent_complete': 22, 'job_type': 'UpdateModel', 'loss': 0.5800882577896118, 'generations': 4, 'dataset_names': ['mergedData.csv'], 'artifact_names': None, 'model_name': 'percSOV_model020190402155627', 'job_error': ''}\n",
      "{'status': 'Running', 'starttime': '2019-04-02T16:06:24.638087', 'endtime': None, 'percent_complete': 22, 'job_type': 'UpdateModel', 'loss': 0.5800882577896118, 'generations': 4, 'dataset_names': ['mergedData.csv'], 'artifact_names': None, 'model_name': 'percSOV_model020190402155627', 'job_error': ''}\n",
      "{'status': 'Running', 'starttime': '2019-04-02T16:06:24.638087', 'endtime': None, 'percent_complete': 22, 'job_type': 'UpdateModel', 'loss': 0.5800882577896118, 'generations': 4, 'dataset_names': ['mergedData.csv'], 'artifact_names': None, 'model_name': 'percSOV_model020190402155627', 'job_error': ''}\n",
      "{'status': 'Running', 'starttime': '2019-04-02T16:06:24.638087', 'endtime': None, 'percent_complete': 22, 'job_type': 'UpdateModel', 'loss': 0.5800882577896118, 'generations': 4, 'dataset_names': ['mergedData.csv'], 'artifact_names': None, 'model_name': 'percSOV_model020190402155627', 'job_error': ''}\n",
      "{'status': 'Running', 'starttime': '2019-04-02T16:06:24.638087', 'endtime': None, 'percent_complete': 22, 'job_type': 'UpdateModel', 'loss': 0.5800882577896118, 'generations': 4, 'dataset_names': ['mergedData.csv'], 'artifact_names': None, 'model_name': 'percSOV_model020190402155627', 'job_error': ''}\n",
      "{'status': 'Running', 'starttime': '2019-04-02T16:06:24.638087', 'endtime': None, 'percent_complete': 22, 'job_type': 'UpdateModel', 'loss': 0.5800882577896118, 'generations': 4, 'dataset_names': ['mergedData.csv'], 'artifact_names': None, 'model_name': 'percSOV_model020190402155627', 'job_error': ''}\n",
      "{'status': 'Running', 'starttime': '2019-04-02T16:06:24.638087', 'endtime': None, 'percent_complete': 22, 'job_type': 'UpdateModel', 'loss': 0.5800882577896118, 'generations': 4, 'dataset_names': ['mergedData.csv'], 'artifact_names': None, 'model_name': 'percSOV_model020190402155627', 'job_error': ''}\n",
      "{'status': 'Running', 'starttime': '2019-04-02T16:06:24.638087', 'endtime': None, 'percent_complete': 22, 'job_type': 'UpdateModel', 'loss': 0.5800882577896118, 'generations': 4, 'dataset_names': ['mergedData.csv'], 'artifact_names': None, 'model_name': 'percSOV_model020190402155627', 'job_error': ''}\n",
      "{'status': 'Running', 'starttime': '2019-04-02T16:06:24.638087', 'endtime': None, 'percent_complete': 22, 'job_type': 'UpdateModel', 'loss': 0.5800882577896118, 'generations': 4, 'dataset_names': ['mergedData.csv'], 'artifact_names': None, 'model_name': 'percSOV_model020190402155627', 'job_error': ''}\n",
      "{'status': 'Running', 'starttime': '2019-04-02T16:06:24.638087', 'endtime': None, 'percent_complete': 22, 'job_type': 'UpdateModel', 'loss': 0.5800882577896118, 'generations': 4, 'dataset_names': ['mergedData.csv'], 'artifact_names': None, 'model_name': 'percSOV_model020190402155627', 'job_error': ''}\n",
      "{'status': 'Complete', 'starttime': '2019-04-02T16:06:24.638087', 'endtime': '2019-04-02T16:11:39.244032', 'percent_complete': 100, 'job_type': 'UpdateModel', 'loss': 0.5800882577896118, 'generations': 4, 'dataset_names': ['mergedData.csv'], 'artifact_names': None, 'model_name': 'percSOV_model020190402155627', 'job_error': ''}\n"
     ]
    }
   ],
   "source": [
    "# Train some more\n",
    "status, job_id = ds.resume_training_model(dataset_names = DATASET_NAME,\n",
    "                                          model_name = model,\n",
    "                                          max_train_time = '00:05')\n",
    "                                          \n",
    "if status:\n",
    "    ds.wait_for_job(job_id['job_name'])\n",
    "else:\n",
    "    print(job_id)"
   ]
  },
  {
   "cell_type": "markdown",
   "metadata": {},
   "source": [
    "# Analyze Model\n",
    "Analyze model provides feature importance ranked by the model. <br> It indicates a general view of which features pose a bigger impact on the model"
   ]
  },
  {
   "cell_type": "code",
   "execution_count": 10,
   "metadata": {
    "scrolled": true
   },
   "outputs": [
    {
     "name": "stdout",
     "output_type": "stream",
     "text": [
      "{'status': 'Running', 'starttime': '2019-04-02T16:14:59.740878', 'endtime': None, 'percent_complete': 0, 'job_type': 'AnalyzeModel', 'loss': 0.5800882577896118, 'generations': 4, 'dataset_names': None, 'artifact_names': ['be0917127561416e9333a582eba8ede5'], 'model_name': 'percSOV_model020190402155627', 'job_error': ''}\n",
      "{'status': 'Running', 'starttime': '2019-04-02T16:14:59.740878', 'endtime': None, 'percent_complete': 0, 'job_type': 'AnalyzeModel', 'loss': 0.5800882577896118, 'generations': 4, 'dataset_names': None, 'artifact_names': ['be0917127561416e9333a582eba8ede5'], 'model_name': 'percSOV_model020190402155627', 'job_error': ''}\n",
      "{'status': 'Complete', 'starttime': '2019-04-02T16:14:59.740878', 'endtime': '2019-04-02T16:15:23.059883', 'percent_complete': 100, 'job_type': 'AnalyzeModel', 'loss': 0.5800882577896118, 'generations': 4, 'dataset_names': None, 'artifact_names': ['be0917127561416e9333a582eba8ede5'], 'model_name': 'percSOV_model020190402155627', 'job_error': ''}\n"
     ]
    }
   ],
   "source": [
    "# Retrieve feature importance of built model\n",
    "status, artifact = ds.analyze_model(model)\n",
    "sleep(1)\n",
    "if status:\n",
    "    ds.wait_for_job(artifact['job_name'])\n",
    "else:\n",
    "    print(artifact)\n",
    "status, feature_importance = ds.download_artifact(artifact['artifact_name'])"
   ]
  },
  {
   "cell_type": "markdown",
   "metadata": {},
   "source": [
    "Show the 10 most important features of the model."
   ]
  },
  {
   "cell_type": "code",
   "execution_count": 11,
   "metadata": {},
   "outputs": [
    {
     "data": {
      "text/plain": [
       "D4d             0.336858\n",
       "PCT_AO2P        0.124899\n",
       "OBJECTID        0.122142\n",
       "PCT_AO0         0.105514\n",
       "D5br            0.031927\n",
       "R_PCTLOWWAGE    0.027286\n",
       "P_WRKAGE        0.026009\n",
       "Shape_Area      0.022484\n",
       "Shape_Length    0.021352\n",
       "SFIPS = 5       0.013601\n",
       "dtype: float64"
      ]
     },
     "execution_count": 11,
     "metadata": {},
     "output_type": "execute_result"
    }
   ],
   "source": [
    "feature_importance[:10]"
   ]
  },
  {
   "cell_type": "markdown",
   "metadata": {},
   "source": [
    "# Predictions\n",
    "**Perform model prediction on the the training dataset.**"
   ]
  },
  {
   "cell_type": "code",
   "execution_count": 12,
   "metadata": {
    "scrolled": true
   },
   "outputs": [
    {
     "name": "stdout",
     "output_type": "stream",
     "text": [
      "{'status': 'Running', 'starttime': '2019-04-02T16:22:26.299097', 'endtime': None, 'percent_complete': 0, 'job_type': 'RunModel', 'loss': 0.5800882577896118, 'generations': 4, 'dataset_names': ['mergedData.csv'], 'artifact_names': ['22936f4bb4dc450e8f211eb1d8bd5152'], 'model_name': 'percSOV_model020190402155627', 'job_error': ''}\n",
      "{'status': 'Complete', 'starttime': '2019-04-02T16:22:26.299097', 'endtime': '2019-04-02T16:22:39.115618', 'percent_complete': 100, 'job_type': 'RunModel', 'loss': 0.5800882577896118, 'generations': 4, 'dataset_names': ['mergedData.csv'], 'artifact_names': ['22936f4bb4dc450e8f211eb1d8bd5152'], 'model_name': 'percSOV_model020190402155627', 'job_error': ''}\n"
     ]
    },
    {
     "data": {
      "text/plain": [
       "(True, 'Job completed')"
      ]
     },
     "execution_count": 12,
     "metadata": {},
     "output_type": "execute_result"
    }
   ],
   "source": [
    "status, artifact = ds.run_model(DATASET_NAME, model)\n",
    "sleep(1)\n",
    "ds.wait_for_job(artifact['job_name'])"
   ]
  },
  {
   "cell_type": "markdown",
   "metadata": {},
   "source": [
    "Download predictions from Darwin's server."
   ]
  },
  {
   "cell_type": "code",
   "execution_count": 47,
   "metadata": {
    "scrolled": true
   },
   "outputs": [
    {
     "name": "stdout",
     "output_type": "stream",
     "text": [
      "0        0.887006\n",
      "1        0.894172\n",
      "2        0.854737\n",
      "3        0.973392\n",
      "4        0.912568\n",
      "5        0.862620\n",
      "6        0.800789\n",
      "7        0.835092\n",
      "8        0.942529\n",
      "9        1.000000\n",
      "10       0.986330\n",
      "11       0.935077\n",
      "12       0.953008\n",
      "13       0.884654\n",
      "14       0.818182\n",
      "15       0.894667\n",
      "16       0.833910\n",
      "17       0.834437\n",
      "18       0.864273\n",
      "19       0.831461\n",
      "20       0.834879\n",
      "21       0.938751\n",
      "22       0.809836\n",
      "23       0.852336\n",
      "24       0.898013\n",
      "25       0.975567\n",
      "26       0.981785\n",
      "27       0.953271\n",
      "28       0.760155\n",
      "29       0.700680\n",
      "           ...   \n",
      "39581    0.890244\n",
      "39582    0.807910\n",
      "39583    0.819085\n",
      "39584    0.785571\n",
      "39585    0.920420\n",
      "39586    0.762295\n",
      "39587    0.632075\n",
      "39588    0.855114\n",
      "39589    0.860860\n",
      "39590    0.791320\n",
      "39591    0.642045\n",
      "39592    0.618391\n",
      "39593    0.758958\n",
      "39594    0.910026\n",
      "39595    0.982249\n",
      "39596    0.950688\n",
      "39597    0.854962\n",
      "39598    0.779056\n",
      "39599    0.777778\n",
      "39600    0.810401\n",
      "39601    0.855769\n",
      "39602    0.720488\n",
      "39603    0.858025\n",
      "39604    0.817863\n",
      "39605    1.000000\n",
      "39606    0.843357\n",
      "39607    0.860150\n",
      "39608    1.000000\n",
      "39609    0.786653\n",
      "39610    0.775616\n",
      "Name: percSOV, Length: 39611, dtype: float64\n",
      "0        0.848758\n",
      "1        0.860969\n",
      "2        0.770277\n",
      "3        0.814497\n",
      "4        0.859048\n",
      "5        0.813004\n",
      "6        0.858134\n",
      "7        0.858453\n",
      "8        0.851944\n",
      "9        0.838415\n",
      "10       0.861676\n",
      "11       0.838240\n",
      "12       0.866554\n",
      "13       0.854979\n",
      "14       0.857501\n",
      "15       0.783668\n",
      "16       0.838785\n",
      "17       0.827905\n",
      "18       0.855760\n",
      "19       0.862907\n",
      "20       0.852572\n",
      "21       0.858035\n",
      "22       0.865488\n",
      "23       0.845800\n",
      "24       0.851238\n",
      "25       0.859379\n",
      "26       0.855182\n",
      "27       0.797864\n",
      "28       0.840322\n",
      "29       0.819102\n",
      "           ...   \n",
      "39581    0.800619\n",
      "39582    0.793667\n",
      "39583    0.813588\n",
      "39584    0.764826\n",
      "39585    0.852554\n",
      "39586    0.826118\n",
      "39587    0.757857\n",
      "39588    0.832564\n",
      "39589    0.817621\n",
      "39590    0.846909\n",
      "39591    0.825902\n",
      "39592    0.808461\n",
      "39593    0.843085\n",
      "39594    0.827261\n",
      "39595    0.849087\n",
      "39596    0.832924\n",
      "39597    0.853195\n",
      "39598    0.830786\n",
      "39599    0.837843\n",
      "39600    0.847885\n",
      "39601    0.853971\n",
      "39602    0.815081\n",
      "39603    0.796429\n",
      "39604    0.851827\n",
      "39605    0.831801\n",
      "39606    0.848809\n",
      "39607    0.835198\n",
      "39608    0.826609\n",
      "39609    0.854132\n",
      "39610    0.830799\n",
      "Name: percSOV, Length: 39611, dtype: float64\n"
     ]
    }
   ],
   "source": [
    "#status, prediction = ds.download_artifact(artifact['artifact_name'])\n",
    "#print(prediction)\n",
    "#pred_list = prediction['percSOV']\n",
    "#print(len(df[target]))\n",
    "#print(prediction.isnull(prediction['percSOV']))\n",
    "print(df[target])\n",
    "print(prediction[target])"
   ]
  },
  {
   "cell_type": "markdown",
   "metadata": {},
   "source": [
    "Create plots comparing predictions with actual target"
   ]
  },
  {
   "cell_type": "code",
   "execution_count": 33,
   "metadata": {
    "scrolled": true
   },
   "outputs": [
    {
     "ename": "ValueError",
     "evalue": "Input contains NaN, infinity or a value too large for dtype('float64').",
     "output_type": "error",
     "traceback": [
      "\u001b[1;31m---------------------------------------------------------------------------\u001b[0m",
      "\u001b[1;31mValueError\u001b[0m                                Traceback (most recent call last)",
      "\u001b[1;32m<ipython-input-33-05681b37e4b7>\u001b[0m in \u001b[0;36m<module>\u001b[1;34m\u001b[0m\n\u001b[0;32m      2\u001b[0m \u001b[0mplt\u001b[0m\u001b[1;33m.\u001b[0m\u001b[0mplot\u001b[0m\u001b[1;33m(\u001b[0m\u001b[0mdf\u001b[0m\u001b[1;33m[\u001b[0m\u001b[0mtarget\u001b[0m\u001b[1;33m]\u001b[0m\u001b[1;33m,\u001b[0m \u001b[0mprediction\u001b[0m\u001b[1;33m[\u001b[0m\u001b[0mtarget\u001b[0m\u001b[1;33m]\u001b[0m\u001b[1;33m,\u001b[0m \u001b[1;34m'.'\u001b[0m\u001b[1;33m)\u001b[0m\u001b[1;33m\u001b[0m\u001b[1;33m\u001b[0m\u001b[0m\n\u001b[0;32m      3\u001b[0m \u001b[1;31m#plt.plot([0,2.3e7],[0,2.3e7],'--k')\u001b[0m\u001b[1;33m\u001b[0m\u001b[1;33m\u001b[0m\u001b[1;33m\u001b[0m\u001b[0m\n\u001b[1;32m----> 4\u001b[1;33m \u001b[0mprint\u001b[0m\u001b[1;33m(\u001b[0m\u001b[1;34m'R^2 : '\u001b[0m\u001b[1;33m,\u001b[0m \u001b[0mr2_score\u001b[0m\u001b[1;33m(\u001b[0m\u001b[0mdf\u001b[0m\u001b[1;33m[\u001b[0m\u001b[0mtarget\u001b[0m\u001b[1;33m]\u001b[0m\u001b[1;33m,\u001b[0m \u001b[0mpred_list\u001b[0m\u001b[1;33m)\u001b[0m\u001b[1;33m)\u001b[0m\u001b[1;33m\u001b[0m\u001b[1;33m\u001b[0m\u001b[0m\n\u001b[0m",
      "\u001b[1;32m~\\Miniconda3\\lib\\site-packages\\sklearn\\metrics\\regression.py\u001b[0m in \u001b[0;36mr2_score\u001b[1;34m(y_true, y_pred, sample_weight, multioutput)\u001b[0m\n\u001b[0;32m    532\u001b[0m     \"\"\"\n\u001b[0;32m    533\u001b[0m     y_type, y_true, y_pred, multioutput = _check_reg_targets(\n\u001b[1;32m--> 534\u001b[1;33m         y_true, y_pred, multioutput)\n\u001b[0m\u001b[0;32m    535\u001b[0m     \u001b[0mcheck_consistent_length\u001b[0m\u001b[1;33m(\u001b[0m\u001b[0my_true\u001b[0m\u001b[1;33m,\u001b[0m \u001b[0my_pred\u001b[0m\u001b[1;33m,\u001b[0m \u001b[0msample_weight\u001b[0m\u001b[1;33m)\u001b[0m\u001b[1;33m\u001b[0m\u001b[1;33m\u001b[0m\u001b[0m\n\u001b[0;32m    536\u001b[0m \u001b[1;33m\u001b[0m\u001b[0m\n",
      "\u001b[1;32m~\\Miniconda3\\lib\\site-packages\\sklearn\\metrics\\regression.py\u001b[0m in \u001b[0;36m_check_reg_targets\u001b[1;34m(y_true, y_pred, multioutput)\u001b[0m\n\u001b[0;32m     74\u001b[0m     \"\"\"\n\u001b[0;32m     75\u001b[0m     \u001b[0mcheck_consistent_length\u001b[0m\u001b[1;33m(\u001b[0m\u001b[0my_true\u001b[0m\u001b[1;33m,\u001b[0m \u001b[0my_pred\u001b[0m\u001b[1;33m)\u001b[0m\u001b[1;33m\u001b[0m\u001b[1;33m\u001b[0m\u001b[0m\n\u001b[1;32m---> 76\u001b[1;33m     \u001b[0my_true\u001b[0m \u001b[1;33m=\u001b[0m \u001b[0mcheck_array\u001b[0m\u001b[1;33m(\u001b[0m\u001b[0my_true\u001b[0m\u001b[1;33m,\u001b[0m \u001b[0mensure_2d\u001b[0m\u001b[1;33m=\u001b[0m\u001b[1;32mFalse\u001b[0m\u001b[1;33m)\u001b[0m\u001b[1;33m\u001b[0m\u001b[1;33m\u001b[0m\u001b[0m\n\u001b[0m\u001b[0;32m     77\u001b[0m     \u001b[0my_pred\u001b[0m \u001b[1;33m=\u001b[0m \u001b[0mcheck_array\u001b[0m\u001b[1;33m(\u001b[0m\u001b[0my_pred\u001b[0m\u001b[1;33m,\u001b[0m \u001b[0mensure_2d\u001b[0m\u001b[1;33m=\u001b[0m\u001b[1;32mFalse\u001b[0m\u001b[1;33m)\u001b[0m\u001b[1;33m\u001b[0m\u001b[1;33m\u001b[0m\u001b[0m\n\u001b[0;32m     78\u001b[0m \u001b[1;33m\u001b[0m\u001b[0m\n",
      "\u001b[1;32m~\\Miniconda3\\lib\\site-packages\\sklearn\\utils\\validation.py\u001b[0m in \u001b[0;36mcheck_array\u001b[1;34m(array, accept_sparse, accept_large_sparse, dtype, order, copy, force_all_finite, ensure_2d, allow_nd, ensure_min_samples, ensure_min_features, warn_on_dtype, estimator)\u001b[0m\n\u001b[0;32m    571\u001b[0m         \u001b[1;32mif\u001b[0m \u001b[0mforce_all_finite\u001b[0m\u001b[1;33m:\u001b[0m\u001b[1;33m\u001b[0m\u001b[1;33m\u001b[0m\u001b[0m\n\u001b[0;32m    572\u001b[0m             _assert_all_finite(array,\n\u001b[1;32m--> 573\u001b[1;33m                                allow_nan=force_all_finite == 'allow-nan')\n\u001b[0m\u001b[0;32m    574\u001b[0m \u001b[1;33m\u001b[0m\u001b[0m\n\u001b[0;32m    575\u001b[0m     \u001b[0mshape_repr\u001b[0m \u001b[1;33m=\u001b[0m \u001b[0m_shape_repr\u001b[0m\u001b[1;33m(\u001b[0m\u001b[0marray\u001b[0m\u001b[1;33m.\u001b[0m\u001b[0mshape\u001b[0m\u001b[1;33m)\u001b[0m\u001b[1;33m\u001b[0m\u001b[1;33m\u001b[0m\u001b[0m\n",
      "\u001b[1;32m~\\Miniconda3\\lib\\site-packages\\sklearn\\utils\\validation.py\u001b[0m in \u001b[0;36m_assert_all_finite\u001b[1;34m(X, allow_nan)\u001b[0m\n\u001b[0;32m     54\u001b[0m                 not allow_nan and not np.isfinite(X).all()):\n\u001b[0;32m     55\u001b[0m             \u001b[0mtype_err\u001b[0m \u001b[1;33m=\u001b[0m \u001b[1;34m'infinity'\u001b[0m \u001b[1;32mif\u001b[0m \u001b[0mallow_nan\u001b[0m \u001b[1;32melse\u001b[0m \u001b[1;34m'NaN, infinity'\u001b[0m\u001b[1;33m\u001b[0m\u001b[1;33m\u001b[0m\u001b[0m\n\u001b[1;32m---> 56\u001b[1;33m             \u001b[1;32mraise\u001b[0m \u001b[0mValueError\u001b[0m\u001b[1;33m(\u001b[0m\u001b[0mmsg_err\u001b[0m\u001b[1;33m.\u001b[0m\u001b[0mformat\u001b[0m\u001b[1;33m(\u001b[0m\u001b[0mtype_err\u001b[0m\u001b[1;33m,\u001b[0m \u001b[0mX\u001b[0m\u001b[1;33m.\u001b[0m\u001b[0mdtype\u001b[0m\u001b[1;33m)\u001b[0m\u001b[1;33m)\u001b[0m\u001b[1;33m\u001b[0m\u001b[1;33m\u001b[0m\u001b[0m\n\u001b[0m\u001b[0;32m     57\u001b[0m \u001b[1;33m\u001b[0m\u001b[0m\n\u001b[0;32m     58\u001b[0m \u001b[1;33m\u001b[0m\u001b[0m\n",
      "\u001b[1;31mValueError\u001b[0m: Input contains NaN, infinity or a value too large for dtype('float64')."
     ]
    },
    {
     "data": {
      "image/png": "[encoded data removed]",
      "text/plain": [
       "<Figure size 432x288 with 1 Axes>"
      ]
     },
     "metadata": {
      "needs_background": "light"
     },
     "output_type": "display_data"
    }
   ],
   "source": [
    "#Plot predictions vs actual\n",
    "plt.plot(df[target], prediction[target], '.')\n",
    "#plt.plot([0,2.3e7],[0,2.3e7],'--k')\n",
    "print('R^2 : ', r2_score(df[target], prediction[target]))"
   ]
  },
  {
   "cell_type": "markdown",
   "metadata": {},
   "source": [
    "## Find out which machine learning model did Darwin use:"
   ]
  },
  {
   "cell_type": "code",
   "execution_count": 15,
   "metadata": {},
   "outputs": [
    {
     "name": "stdout",
     "output_type": "stream",
     "text": [
      "{'type': 'XGBRegressor', 'parameters': {}}\n"
     ]
    }
   ],
   "source": [
    "status, model_type = ds.lookup_model_name(model)\n",
    "print(model_type['description']['best_genome'])"
   ]
  }
 ],
 "metadata": {
  "anaconda-cloud": {},
  "kernelspec": {
   "display_name": "Python 3",
   "language": "python",
   "name": "python3"
  },
  "language_info": {
   "codemirror_mode": {
    "name": "ipython",
    "version": 3
   },
   "file_extension": ".py",
   "mimetype": "text/x-python",
   "name": "python",
   "nbconvert_exporter": "python",
   "pygments_lexer": "ipython3",
   "version": "3.7.1"
  }
 },
 "nbformat": 4,
 "nbformat_minor": 2
}
